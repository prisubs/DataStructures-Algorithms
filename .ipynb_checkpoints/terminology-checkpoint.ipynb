{
 "cells": [
  {
   "cell_type": "markdown",
   "metadata": {},
   "source": [
    "| Asymptotic Bound | Implication |\n",
    "| ---------------- | ------------------------------------------------------------------------------------------------------------------------------------------------------------------------------------------------------------------------------------------------------------------------------------------------------------------------------------------------------ |\n",
    "| $\\theta(N)$   | The function is bounded both above and below by $N$. This contains both $\\Omega(N)$ and $O(N)$.|\n",
    "| $\\Omega(N)$   | Describes the lower bound, implying that the function’s order of growth cannot be faster. It can be equal to the $\\Omega$ bound, but never can be better                                                                                                                                                                                             |\n",
    "| $O(N)$        | Describes the upper bound, implying the function’s order of growth cannot be slower. It can be equal to the $O$ bound, but never can be worse                                                                                                                                                                                                        |\n",
    "| Notes            | Certain runtime classes imply others. The most obvious one of these is in $\\theta$, the other two runtime classes are encompassed, so if a question asks for the tightest bound, you should make sure to give a theta bound. An example of this is with selection sort. Technically, it runs in $O(N^{2})$, but it also runs in $\\Omega(N^{2})$. |\n",
    "\n"
   ]
  },
  {
   "cell_type": "markdown",
   "metadata": {},
   "source": [
    "| Vocabulary Term    | Definition                                                                                                                                                                                                                                                      |\n",
    "| ------------------ | --------------------------------------------------------------------------------------------------------------------------------------------------------------------------------------------------------------------------------------------------------------- |\n",
    "| Stable Sort        | Order of equivalent items is preserved, for example, if we had an alphabetically sorted table of `<Name, Age>` pairs, we’d want all the three-year olds to remain in alphabetical order after sorting them by age.                                              |\n",
    "| Adaptive Sort      | Exploit any existing degree of order in an array to make your own sorting problem easier. This is the sorting mechanism used by `InsertionSort`, `SmoothSort`, and something called `TimSort`.                                                                  |\n",
    "| Introspective Sort | This involves making the algorithm introspective, or switching to a different sorting method if recursion goes too many levels deep. This is technically only a problem for certain types of `QuickSort`.                                                       |\n",
    "| Compression        | Data files are large, and are composed of bits. Sometimes, we want to make these smaller, so we turn to the process of compression, which allows files written in many bits to be compressed and decompressed to less bits so they take up less space.          |\n",
    "| Cut Property       | A cut is a set of vertices such that once those vertices are removed, the graph remains connected within the separated graphs, but both are not connected to each other. The minimum weight edge across the cuts (called a crossing edge) is always in the MST. |"
   ]
  }
 ],
 "metadata": {
  "kernelspec": {
   "display_name": "Python 3",
   "language": "python",
   "name": "python3"
  },
  "language_info": {
   "codemirror_mode": {
    "name": "ipython",
    "version": 3
   },
   "file_extension": ".py",
   "mimetype": "text/x-python",
   "name": "python",
   "nbconvert_exporter": "python",
   "pygments_lexer": "ipython3",
   "version": "3.7.2"
  }
 },
 "nbformat": 4,
 "nbformat_minor": 2
}
